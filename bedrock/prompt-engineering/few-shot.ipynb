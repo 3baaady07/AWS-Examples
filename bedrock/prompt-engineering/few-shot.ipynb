{
 "cells": [
  {
   "cell_type": "code",
   "execution_count": 1,
   "id": "75d8331c-d580-40ea-96d7-0c56e64eaa4b",
   "metadata": {},
   "outputs": [
    {
     "name": "stdout",
     "output_type": "stream",
     "text": [
      "Requirement already satisfied: boto3 in /opt/conda/lib/python3.11/site-packages (1.34.131)\n",
      "Requirement already satisfied: botocore<1.35.0,>=1.34.131 in /opt/conda/lib/python3.11/site-packages (from boto3) (1.34.131)\n",
      "Requirement already satisfied: jmespath<2.0.0,>=0.7.1 in /opt/conda/lib/python3.11/site-packages (from boto3) (1.0.1)\n",
      "Requirement already satisfied: s3transfer<0.11.0,>=0.10.0 in /opt/conda/lib/python3.11/site-packages (from boto3) (0.10.2)\n",
      "Requirement already satisfied: python-dateutil<3.0.0,>=2.1 in /opt/conda/lib/python3.11/site-packages (from botocore<1.35.0,>=1.34.131->boto3) (2.9.0)\n",
      "Requirement already satisfied: urllib3!=2.2.0,<3,>=1.25.4 in /opt/conda/lib/python3.11/site-packages (from botocore<1.35.0,>=1.34.131->boto3) (1.26.19)\n",
      "Requirement already satisfied: six>=1.5 in /opt/conda/lib/python3.11/site-packages (from python-dateutil<3.0.0,>=2.1->botocore<1.35.0,>=1.34.131->boto3) (1.16.0)\n",
      "Note: you may need to restart the kernel to use updated packages.\n"
     ]
    }
   ],
   "source": [
    "%pip install boto3"
   ]
  },
  {
   "cell_type": "code",
   "execution_count": 2,
   "id": "d17ab435-440b-43d4-a9b3-2e0a35ee0fd9",
   "metadata": {},
   "outputs": [],
   "source": [
    "import json\n",
    "import os\n",
    "import sys\n",
    "\n",
    "import boto3"
   ]
  },
  {
   "cell_type": "code",
   "execution_count": 3,
   "id": "e8076275-78eb-4b95-826c-3ffa71ca37f4",
   "metadata": {},
   "outputs": [],
   "source": [
    "client = boto3.client(\"bedrock-runtime\")"
   ]
  },
  {
   "cell_type": "code",
   "execution_count": 4,
   "id": "e05a44cb-3bd6-47c6-82a8-d5cb3fbfab6a",
   "metadata": {},
   "outputs": [],
   "source": [
    "prompt_data = \"\"\"\n",
    "Tweet: \"I hate it when my phone battery dies.”: Sentiment: Negative\n",
    "Tweet: \"My day has been great”: Sentiment: Positive\n",
    "Tweet: \"This is the link to the article”: Sentiment: Neutral\n",
    "Tweet: \"This new music video was incredible” Sentiment:\n",
    "\"\"\" "
   ]
  },
  {
   "cell_type": "code",
   "execution_count": 7,
   "id": "9a46c5ec-f732-400f-996b-1d41c54d7deb",
   "metadata": {},
   "outputs": [],
   "source": [
    "resp = client.invoke_model(\n",
    "    modelId='amazon.titan-text-express-v1',\n",
    "    body=json.dumps({\n",
    "        \"inputText\": prompt_data\n",
    "    })\n",
    ")"
   ]
  },
  {
   "cell_type": "code",
   "execution_count": 9,
   "id": "46e8ddff-ef42-4326-95dd-2d7af2e49502",
   "metadata": {},
   "outputs": [],
   "source": [
    "body = json.loads(resp.get(\"body\").read())"
   ]
  },
  {
   "cell_type": "code",
   "execution_count": 14,
   "id": "28acba05-fa67-456f-bd4b-1c0a25b73a3c",
   "metadata": {},
   "outputs": [
    {
     "name": "stdout",
     "output_type": "stream",
     "text": [
      "Positive\n"
     ]
    }
   ],
   "source": [
    "print(body['results'][0]['outputText'])"
   ]
  },
  {
   "cell_type": "code",
   "execution_count": null,
   "id": "9bff3e29-fca2-40b0-b732-e276bfe3739c",
   "metadata": {},
   "outputs": [],
   "source": []
  }
 ],
 "metadata": {
  "kernelspec": {
   "display_name": "Python 3 (ipykernel)",
   "language": "python",
   "name": "python3"
  },
  "language_info": {
   "codemirror_mode": {
    "name": "ipython",
    "version": 3
   },
   "file_extension": ".py",
   "mimetype": "text/x-python",
   "name": "python",
   "nbconvert_exporter": "python",
   "pygments_lexer": "ipython3",
   "version": "3.11.9"
  }
 },
 "nbformat": 4,
 "nbformat_minor": 5
}

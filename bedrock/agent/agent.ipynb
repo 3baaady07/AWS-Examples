{
 "cells": [
  {
   "cell_type": "code",
   "execution_count": 5,
   "id": "605dc049-298c-495f-bf25-a1483a6e33fd",
   "metadata": {},
   "outputs": [],
   "source": [
    "import boto3\n",
    "import time\n",
    "import logging\n",
    "import pprint"
   ]
  },
  {
   "cell_type": "code",
   "execution_count": 3,
   "id": "4057bd6a-9140-4e22-8b27-b93cddbb0057",
   "metadata": {},
   "outputs": [],
   "source": [
    "agent_client = boto3.client('bedrock-agent')\n",
    "agent_runtime_client = boto3.client('bedrock-agent-runtime')"
   ]
  },
  {
   "cell_type": "code",
   "execution_count": 6,
   "id": "87d2856f-18ef-4a3a-934e-d3b2a1aeb38a",
   "metadata": {},
   "outputs": [],
   "source": [
    "logging.basicConfig(format='[%(asctime)s] p%(process)s {%(filename)s:%(lineno)d} %(levelname)s - %(message)s', level=logging.INFO)\n",
    "logger = logging.getLogger(__name__)"
   ]
  },
  {
   "cell_type": "code",
   "execution_count": 9,
   "id": "233d90b5-7b02-49c7-a573-c116afbd2a73",
   "metadata": {},
   "outputs": [],
   "source": [
    "def invoke_agent_helper(query, session_id, agent_id, alias_id, enable_trace=False, session_state=None):\n",
    "    end_session: bool = False\n",
    "    if not session_state:\n",
    "        session_state = {}\n",
    "\n",
    "    # invoke the agent API\n",
    "    agent_response = agent_runtime_client.invoke_agent(\n",
    "        inputText=query,\n",
    "        agentId=agent_id,\n",
    "        agentAliasId=alias_id,\n",
    "        sessionId=session_id,\n",
    "        enableTrace=enable_trace,\n",
    "        endSession=end_session,\n",
    "        sessionState=session_state\n",
    "    )\n",
    "\n",
    "    if enable_trace:\n",
    "        logger.info(pprint.pprint(agent_response))\n",
    "\n",
    "    event_stream = agent_response['completion']\n",
    "    try:\n",
    "        for event in event_stream:\n",
    "            if 'chunk' in event:\n",
    "                data = event['chunk']['bytes']\n",
    "                if enable_trace:\n",
    "                    logger.info(f\"Final answer ->\\n{data.decode('utf8')}\")\n",
    "                agent_answer = data.decode('utf8')\n",
    "                return agent_answer\n",
    "                # End event indicates that the request finished successfully\n",
    "            elif 'trace' in event:\n",
    "                if enable_trace:\n",
    "                    logger.info(json.dumps(event['trace'], indent=2))\n",
    "            else:\n",
    "                raise Exception(\"unexpected event.\", event)\n",
    "    except Exception as e:\n",
    "        raise Exception(\"unexpected event.\", e)"
   ]
  },
  {
   "cell_type": "code",
   "execution_count": 7,
   "id": "160cd8d7-8650-47fd-ac79-e4dd80be1bc7",
   "metadata": {},
   "outputs": [],
   "source": [
    "import uuid\n",
    "session_id:str = str(uuid.uuid1())\n"
   ]
  },
  {
   "cell_type": "code",
   "execution_count": 12,
   "id": "2bba2845-f98b-4141-8e85-eed9b6ffb6fb",
   "metadata": {},
   "outputs": [
    {
     "name": "stdout",
     "output_type": "stream",
     "text": [
      "The adult menu at The Regrettable Experience includes:\n",
      "\n",
      "\n",
      "- Soup of the Day options like Black Bean Soup, New England Clam Chowder, and Hearty Lentil Soup\n",
      "- Salad options like Southwest Chicken Salad, Grilled Chicken Caesar Salad, Strawberry Spinach Salad, and Greek Salad\n",
      "- Sandwich options like Turkey Bacon Avocado Melt and BLT Wrap with Avocado\n",
      "- Entree options like BBQ Pulled Pork Sandwiches, Steak with Garlic Butter, and Vegetable Stir-Fry with Tofu\n",
      "- Dessert options like Classic New York Cheesecake and Apple Pie a la Mode\n",
      "\n",
      "CPU times: user 22.5 ms, sys: 837 μs, total: 23.4 ms\n",
      "Wall time: 6.46 s\n"
     ]
    }
   ],
   "source": [
    "%%time\n",
    "\n",
    "agent_id = \"FDINTOZLTQ\"\n",
    "alias_id = \"K0F2DLTPSM\"\n",
    "query = \"What is on the adult menu?\"\n",
    "\n",
    "response = invoke_agent_helper(query, session_id, agent_id, alias_id)\n",
    "print(response)"
   ]
  },
  {
   "cell_type": "code",
   "execution_count": null,
   "id": "d7390c64-3e11-4d10-930e-b08c0f0254e5",
   "metadata": {},
   "outputs": [],
   "source": []
  }
 ],
 "metadata": {
  "kernelspec": {
   "display_name": "Python 3 (ipykernel)",
   "language": "python",
   "name": "python3"
  },
  "language_info": {
   "codemirror_mode": {
    "name": "ipython",
    "version": 3
   },
   "file_extension": ".py",
   "mimetype": "text/x-python",
   "name": "python",
   "nbconvert_exporter": "python",
   "pygments_lexer": "ipython3",
   "version": "3.11.9"
  }
 },
 "nbformat": 4,
 "nbformat_minor": 5
}

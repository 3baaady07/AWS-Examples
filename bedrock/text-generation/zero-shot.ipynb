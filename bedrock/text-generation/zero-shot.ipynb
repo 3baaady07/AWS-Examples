{
 "cells": [
  {
   "cell_type": "code",
   "execution_count": 2,
   "id": "36483792-9d6d-4de6-b3b5-588ba8301fe8",
   "metadata": {},
   "outputs": [
    {
     "name": "stdout",
     "output_type": "stream",
     "text": [
      "Requirement already satisfied: boto3 in /opt/conda/lib/python3.11/site-packages (1.34.131)\n",
      "Requirement already satisfied: botocore<1.35.0,>=1.34.131 in /opt/conda/lib/python3.11/site-packages (from boto3) (1.34.131)\n",
      "Requirement already satisfied: jmespath<2.0.0,>=0.7.1 in /opt/conda/lib/python3.11/site-packages (from boto3) (1.0.1)\n",
      "Requirement already satisfied: s3transfer<0.11.0,>=0.10.0 in /opt/conda/lib/python3.11/site-packages (from boto3) (0.10.2)\n",
      "Requirement already satisfied: python-dateutil<3.0.0,>=2.1 in /opt/conda/lib/python3.11/site-packages (from botocore<1.35.0,>=1.34.131->boto3) (2.9.0)\n",
      "Requirement already satisfied: urllib3!=2.2.0,<3,>=1.25.4 in /opt/conda/lib/python3.11/site-packages (from botocore<1.35.0,>=1.34.131->boto3) (1.26.19)\n",
      "Requirement already satisfied: six>=1.5 in /opt/conda/lib/python3.11/site-packages (from python-dateutil<3.0.0,>=2.1->botocore<1.35.0,>=1.34.131->boto3) (1.16.0)\n",
      "Note: you may need to restart the kernel to use updated packages.\n"
     ]
    }
   ],
   "source": [
    "%pip install boto3"
   ]
  },
  {
   "cell_type": "code",
   "execution_count": 1,
   "id": "17d2210a-f77f-49a4-a38e-bf1f5b4baf4f",
   "metadata": {},
   "outputs": [],
   "source": [
    "import json\n",
    "import os\n",
    "import sys\n",
    "\n",
    "import boto3"
   ]
  },
  {
   "cell_type": "code",
   "execution_count": 15,
   "id": "8f7153de-974c-4202-830a-df198c5e70de",
   "metadata": {},
   "outputs": [],
   "source": [
    "client = boto3.client(\"bedrock-runtime\")"
   ]
  },
  {
   "cell_type": "code",
   "execution_count": 17,
   "id": "5c2a43ea-6079-4ee3-a4bd-0a6f154fc4bc",
   "metadata": {},
   "outputs": [],
   "source": [
    "prompt_data = \"\"\"\n",
    "Human: \n",
    "Sulfuric acid reacts with sodium chloride, and gives <chemical1>_____</chemical1> and <chemical2>_____</chemical2>:\n",
    "Assistant:\n",
    "\"\"\""
   ]
  },
  {
   "cell_type": "markdown",
   "id": "5c0de163-c57d-4f87-a04f-137fbd1a9b28",
   "metadata": {},
   "source": [
    "https://docs.aws.amazon.com/bedrock/latest/userguide/model-ids.html"
   ]
  },
  {
   "cell_type": "code",
   "execution_count": 32,
   "id": "99123497-0408-436b-b5e0-c5da9beedf97",
   "metadata": {},
   "outputs": [],
   "source": [
    "resp = client.invoke_model(\n",
    "    modelId='anthropic.claude-v2',\n",
    "    contentType='application/json',\n",
    "    accept='application/json',\n",
    "    body=json.dumps({\n",
    "        \"prompt\": prompt_data,\n",
    "        \"max_tokens_to_sample\": 200,\n",
    "        \"temperature\": 1.0\n",
    "    })\n",
    ")"
   ]
  },
  {
   "cell_type": "code",
   "execution_count": 33,
   "id": "b413e236-3858-4970-9fec-480bb683584f",
   "metadata": {},
   "outputs": [],
   "source": [
    "body = json.loads(resp.get(\"body\").read())"
   ]
  },
  {
   "cell_type": "code",
   "execution_count": 35,
   "id": "8f4d1501-9dec-40b5-9828-d0d1c5369ee4",
   "metadata": {},
   "outputs": [
    {
     "name": "stdout",
     "output_type": "stream",
     "text": [
      " Sulfuric acid reacts with sodium chloride, and gives <chemical1>hydrochloric acid</chemical1> and <chemical2>sodium sulfate</chemical2>:\n",
      "\n",
      "The balanced chemical equation is:\n",
      "\n",
      "H2SO4 + 2NaCl -> 2HCl + Na2SO4\n",
      "\n",
      "Sulfuric acid reacts with sodium chloride (table salt) in a double displacement reaction. Sulfuric acid donates a hydrogen ion to chloride, forming hydrochloric acid. The sodium ion pairs with the sulfate ion from sulfuric acid to form sodium sulfate.\n"
     ]
    }
   ],
   "source": [
    "print(body['completion'])\n"
   ]
  }
 ],
 "metadata": {
  "kernelspec": {
   "display_name": "Python 3 (ipykernel)",
   "language": "python",
   "name": "python3"
  },
  "language_info": {
   "codemirror_mode": {
    "name": "ipython",
    "version": 3
   },
   "file_extension": ".py",
   "mimetype": "text/x-python",
   "name": "python",
   "nbconvert_exporter": "python",
   "pygments_lexer": "ipython3",
   "version": "3.11.9"
  }
 },
 "nbformat": 4,
 "nbformat_minor": 5
}

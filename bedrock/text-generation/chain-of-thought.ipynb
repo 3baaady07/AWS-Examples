{
 "cells": [
  {
   "cell_type": "code",
   "execution_count": 2,
   "id": "6ca9cd8d-d3d9-4efa-89c0-299bb4b92ae6",
   "metadata": {},
   "outputs": [
    {
     "name": "stdout",
     "output_type": "stream",
     "text": [
      "Requirement already satisfied: boto3 in /opt/conda/lib/python3.11/site-packages (1.34.131)\n",
      "Requirement already satisfied: botocore<1.35.0,>=1.34.131 in /opt/conda/lib/python3.11/site-packages (from boto3) (1.34.131)\n",
      "Requirement already satisfied: jmespath<2.0.0,>=0.7.1 in /opt/conda/lib/python3.11/site-packages (from boto3) (1.0.1)\n",
      "Requirement already satisfied: s3transfer<0.11.0,>=0.10.0 in /opt/conda/lib/python3.11/site-packages (from boto3) (0.10.2)\n",
      "Requirement already satisfied: python-dateutil<3.0.0,>=2.1 in /opt/conda/lib/python3.11/site-packages (from botocore<1.35.0,>=1.34.131->boto3) (2.9.0)\n",
      "Requirement already satisfied: urllib3!=2.2.0,<3,>=1.25.4 in /opt/conda/lib/python3.11/site-packages (from botocore<1.35.0,>=1.34.131->boto3) (1.26.19)\n",
      "Requirement already satisfied: six>=1.5 in /opt/conda/lib/python3.11/site-packages (from python-dateutil<3.0.0,>=2.1->botocore<1.35.0,>=1.34.131->boto3) (1.16.0)\n",
      "Note: you may need to restart the kernel to use updated packages.\n"
     ]
    }
   ],
   "source": [
    "%pip install boto3"
   ]
  },
  {
   "cell_type": "code",
   "execution_count": 3,
   "id": "7e577f97-2e3b-445e-a774-d4c9b36ed335",
   "metadata": {},
   "outputs": [],
   "source": [
    "import json\n",
    "import os\n",
    "import sys\n",
    "\n",
    "import boto3"
   ]
  },
  {
   "cell_type": "code",
   "execution_count": 4,
   "id": "d5c72ad4-4dab-410b-8888-8ff6619952ae",
   "metadata": {},
   "outputs": [],
   "source": [
    "client = boto3.client(\"bedrock-runtime\")"
   ]
  },
  {
   "cell_type": "code",
   "execution_count": 8,
   "id": "b7e332e3-9cf7-418f-ae44-c5a8065d8ffa",
   "metadata": {},
   "outputs": [],
   "source": [
    "prompt_data = \"\"\"\n",
    "On a given week, the viewers for a TV channel were\n",
    "Monday: 6500 viewers\n",
    "Tuesday: 6400 viewers\n",
    "Wednesday: 6300 viewers\n",
    "\n",
    "\n",
    "Question: How many viewers can we expect on Friday?\n",
    "Answer: Based on the numbers given and without any more information, there is a daily decrease of 100 viewers. If we assume this trend will continue during the following days, we can expect 6200 viewers on the next day that would be Thursday, and therefore 6100 viewers on the next day that would be Friday.\n",
    "\n",
    "Question: How many viewers can we expect on Saturday? (Think Step-by-Step)\n",
    "Answer: ?\n",
    "\n",
    "Solve the anwser\n",
    "\"\"\" "
   ]
  },
  {
   "cell_type": "code",
   "execution_count": 10,
   "id": "d3304de4-0aba-4399-ae31-2b1f730626fe",
   "metadata": {},
   "outputs": [],
   "source": [
    "resp = client.invoke_model(\n",
    "    modelId='anthropic.claude-3-haiku-20240307-v1:0',\n",
    "    contentType='application/json',\n",
    "    accept='application/json',\n",
    "    body=json.dumps({\n",
    "        \"anthropic_version\": \"bedrock-2023-05-31\",\n",
    "        \"max_tokens\": 512,\n",
    "        \"messages\": [\n",
    "            {\"role\": \"user\",\"content\": [{\"type\": \"text\",\"text\": prompt_data }]}\n",
    "        ],\n",
    "        \"temperature\": 0.5,\n",
    "        \"top_p\": 0.9\n",
    "    })\n",
    ")\n",
    "\n",
    "\n"
   ]
  },
  {
   "cell_type": "code",
   "execution_count": 11,
   "id": "e232b973-00c4-4a68-8223-b3aa51ccc621",
   "metadata": {},
   "outputs": [
    {
     "name": "stdout",
     "output_type": "stream",
     "text": [
      "{'ResponseMetadata': {'RequestId': 'cd31c5ac-6bb7-4a85-a4cf-614fd46b0298', 'HTTPStatusCode': 200, 'HTTPHeaders': {'date': 'Sat, 21 Sep 2024 19:28:21 GMT', 'content-type': 'application/json', 'content-length': '1113', 'connection': 'keep-alive', 'x-amzn-requestid': 'cd31c5ac-6bb7-4a85-a4cf-614fd46b0298', 'x-amzn-bedrock-invocation-latency': '2353', 'x-amzn-bedrock-output-token-count': '253', 'x-amzn-bedrock-input-token-count': '164'}, 'RetryAttempts': 0}, 'contentType': 'application/json', 'body': <botocore.response.StreamingBody object at 0x7f1d996efe50>}\n"
     ]
    }
   ],
   "source": [
    "print(resp)"
   ]
  },
  {
   "cell_type": "code",
   "execution_count": 12,
   "id": "0b44795e-30fb-4ec1-b187-4b9478bb180e",
   "metadata": {},
   "outputs": [],
   "source": [
    "body = json.loads(resp.get(\"body\").read())"
   ]
  },
  {
   "cell_type": "code",
   "execution_count": 17,
   "id": "b91862ee-73d5-475e-9d26-c7186f4096b2",
   "metadata": {},
   "outputs": [
    {
     "name": "stdout",
     "output_type": "stream",
     "text": [
      "To solve the question and find the expected number of viewers on Saturday, we can follow a step-by-step approach:\n",
      "\n",
      "Given information:\n",
      "- Monday: 6500 viewers\n",
      "- Tuesday: 6400 viewers\n",
      "- Wednesday: 6300 viewers\n",
      "\n",
      "Step 1: Identify the daily decrease in viewers.\n",
      "Daily decrease = Monday viewers - Tuesday viewers = 6500 - 6400 = 100 viewers\n",
      "Daily decrease = Tuesday viewers - Wednesday viewers = 6400 - 6300 = 100 viewers\n",
      "\n",
      "Step 2: Extrapolate the trend to find the expected number of viewers on Thursday and Friday.\n",
      "Thursday viewers = Wednesday viewers - 100 = 6300 - 100 = 6200 viewers\n",
      "Friday viewers = Thursday viewers - 100 = 6200 - 100 = 6100 viewers\n",
      "\n",
      "Step 3: Extrapolate the trend to find the expected number of viewers on Saturday.\n",
      "Saturday viewers = Friday viewers - 100 = 6100 - 100 = 6000 viewers\n",
      "\n",
      "Therefore, we can expect 6000 viewers on Saturday.\n"
     ]
    }
   ],
   "source": [
    "print(body['content'][0]['text'])"
   ]
  },
  {
   "cell_type": "code",
   "execution_count": null,
   "id": "cfcbaf24-0047-4a03-be5f-8a3668607698",
   "metadata": {},
   "outputs": [],
   "source": []
  }
 ],
 "metadata": {
  "kernelspec": {
   "display_name": "Python 3 (ipykernel)",
   "language": "python",
   "name": "python3"
  },
  "language_info": {
   "codemirror_mode": {
    "name": "ipython",
    "version": 3
   },
   "file_extension": ".py",
   "mimetype": "text/x-python",
   "name": "python",
   "nbconvert_exporter": "python",
   "pygments_lexer": "ipython3",
   "version": "3.11.9"
  }
 },
 "nbformat": 4,
 "nbformat_minor": 5
}

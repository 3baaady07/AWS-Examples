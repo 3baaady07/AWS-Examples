{
 "cells": [
  {
   "cell_type": "code",
   "execution_count": 1,
   "id": "90d528bc-b40a-49d2-8e20-2bd5c5c5607b",
   "metadata": {},
   "outputs": [
    {
     "name": "stdout",
     "output_type": "stream",
     "text": [
      "Requirement already satisfied: boto3 in /opt/conda/lib/python3.11/site-packages (1.35.24)\n",
      "Requirement already satisfied: botocore<1.36.0,>=1.35.24 in /opt/conda/lib/python3.11/site-packages (from boto3) (1.35.24)\n",
      "Requirement already satisfied: jmespath<2.0.0,>=0.7.1 in /opt/conda/lib/python3.11/site-packages (from boto3) (1.0.1)\n",
      "Requirement already satisfied: s3transfer<0.11.0,>=0.10.0 in /opt/conda/lib/python3.11/site-packages (from boto3) (0.10.2)\n",
      "Requirement already satisfied: python-dateutil<3.0.0,>=2.1 in /opt/conda/lib/python3.11/site-packages (from botocore<1.36.0,>=1.35.24->boto3) (2.9.0)\n",
      "Requirement already satisfied: urllib3!=2.2.0,<3,>=1.25.4 in /opt/conda/lib/python3.11/site-packages (from botocore<1.36.0,>=1.35.24->boto3) (1.26.19)\n",
      "Requirement already satisfied: six>=1.5 in /opt/conda/lib/python3.11/site-packages (from python-dateutil<3.0.0,>=2.1->botocore<1.36.0,>=1.35.24->boto3) (1.16.0)\n",
      "Note: you may need to restart the kernel to use updated packages.\n"
     ]
    }
   ],
   "source": [
    "%pip install boto3"
   ]
  },
  {
   "cell_type": "code",
   "execution_count": 2,
   "id": "969607c1-1c85-44b8-ba43-1d15bc7ebdd9",
   "metadata": {},
   "outputs": [],
   "source": [
    "import json\n",
    "import os\n",
    "import sys\n",
    "import boto3"
   ]
  },
  {
   "cell_type": "code",
   "execution_count": 3,
   "id": "57488ff7-a7ba-4b00-b487-e7e94e9081d0",
   "metadata": {},
   "outputs": [],
   "source": [
    "client = boto3.client(\"bedrock-runtime\")"
   ]
  },
  {
   "cell_type": "code",
   "execution_count": 9,
   "id": "5fa83be4-9162-4cd9-9d15-94f3ade50476",
   "metadata": {},
   "outputs": [],
   "source": [
    "params = {\n",
    "    \"maxTokenCount\":512,\n",
    "    \"stopSequences\":[],\n",
    "    \"temperature\":0,\n",
    "    \"topP\":0.9\n",
    "}"
   ]
  },
  {
   "cell_type": "code",
   "execution_count": 10,
   "id": "f759f5ef-a01b-494a-a838-a212e44b82e6",
   "metadata": {},
   "outputs": [
    {
     "name": "stdout",
     "output_type": "stream",
     "text": [
      "\n",
      "I am unsure.\n"
     ]
    }
   ],
   "source": [
    "prompt_data = \"\"\"You are an helpful assistant. Answer questions in a concise way. If you are unsure about the\n",
    "answer say 'I am unsure'\n",
    "\n",
    "Question: How can I fix a flat tire on my Audi A8?\n",
    "Answer:\"\"\"\n",
    "\n",
    "resp = client.invoke_model(\n",
    "    body=json.dumps({\n",
    "        \"inputText\": prompt_data,\n",
    "        \"textGenerationConfig\": params,\n",
    "    }), \n",
    "    modelId=\"amazon.titan-tg1-large\", \n",
    "    accept='application/json', \n",
    "    contentType='application/json'\n",
    ")\n",
    "body = json.loads(resp.get('body').read())\n",
    "print(body.get('results')[0].get('outputText'))"
   ]
  },
  {
   "cell_type": "code",
   "execution_count": 11,
   "id": "d67100b1-3ec6-49c3-bbbe-a0b76a56a6ea",
   "metadata": {},
   "outputs": [
    {
     "name": "stdout",
     "output_type": "stream",
     "text": [
      "\n",
      "1. Use the tire pressure gauge to check the tire pressure. The recommended tire pressure is 35 psi. If the tire pressure is below 35 psi, inflate the tire. If the tire pressure is above 35 psi, deflate the tire.\n",
      "\n",
      "2. Remove the hubcap or wheel cover. The hubcap or wheel cover is held in place by a retaining ring. Use a flathead screwdriver to pry the retaining ring off of the hubcap or wheel cover.\n",
      "\n",
      "3. Remove the lug nuts. The lug nuts are located on the wheel hub. Use a lug wrench to loosen the lug nuts.\n",
      "\n",
      "4. Remove the flat tire. The flat tire is located on the wheel hub. Use a tire iron to pry the flat tire off of the wheel hub.\n",
      "\n",
      "5. Install the spare tire. The spare tire is located in the trunk of the Amazon Tirana. Use a tire iron to install the spare tire on the wheel hub.\n",
      "\n",
      "6. Tighten the lug nuts. Use a lug wrench to tighten the lug nuts.\n",
      "\n",
      "7. Lower the Amazon Tirana to the ground. Use the jack to lower the Amazon Tirana to the ground.\n",
      "\n",
      "8. Remove the jack. Use the jack to remove the jack from the Amazon Tirana.\n",
      "\n",
      "9. Check the tire pressure. Use the tire pressure gauge to check the tire pressure. The recommended tire pressure is 35 psi. If the tire pressure is below 35 psi, inflate the tire. If the tire pressure is above 35 psi, deflate the tire.\n",
      "\n",
      "10. Replace the hubcap or wheel cover. Replace the hubcap or wheel cover. Use a flathead screwdriver to pry the retaining ring back into place.\n",
      "\n",
      "11. Replace the lug nuts. Replace the lug nuts. Use a lug wrench to tighten the lug nuts.\n",
      "\n",
      "12. Replace the flat tire. Replace the flat tire. Use a tire iron to pry the flat tire off of the wheel hub.\n",
      "\n",
      "13. Lower the Amazon Tirana to the ground. Lower the Amazon Tirana to the ground.\n",
      "\n",
      "14. Check the tire pressure. Check the tire pressure. The recommended tire pressure is 35 psi. If the tire pressure is below 35 psi, inflate the tire. If the tire pressure is above 35 psi, deflate the tire.\n",
      "\n",
      "15. Replace the jack. Replace the jack. Use the jack to raise the Amazon Tirana to\n"
     ]
    }
   ],
   "source": [
    "prompt_data = \"How can I fix a flat tire on my Amazon Tirana?\"\n",
    "\n",
    "resp = client.invoke_model(\n",
    "    body=json.dumps({\n",
    "        \"inputText\": prompt_data,\n",
    "        \"textGenerationConfig\": params,\n",
    "    }), \n",
    "    modelId=\"amazon.titan-tg1-large\", \n",
    "    accept='application/json', \n",
    "    contentType='application/json'\n",
    ")\n",
    "body = json.loads(resp.get('body').read())\n",
    "print(body.get('results')[0].get('outputText'))"
   ]
  },
  {
   "cell_type": "code",
   "execution_count": 12,
   "id": "c6353bfc-c59d-46bd-9c90-cfa321d8012c",
   "metadata": {},
   "outputs": [
    {
     "name": "stdout",
     "output_type": "stream",
     "text": [
      " To fix a flat tire on your Audi A8, you can use a tire mobility kit. This kit is typically stored under the lining of the luggage area in your vehicle. Follow the instructions provided with the tire mobility kit to seal the puncture in the tire. After using the kit, make sure to securely put it back in its original location. Contact Audi or an appropriate service for assistance with disposing of and replacing the used sealant bottle.\n"
     ]
    }
   ],
   "source": [
    "context = \"\"\"Tires and tire pressure for Audi A8:\n",
    "\n",
    "Tires are made of black rubber and are mounted on the wheels of your vehicle. They provide the necessary grip for driving, cornering, and braking. Two important factors to consider are tire pressure and tire wear, as they can affect the performance and handling of your car.\n",
    "\n",
    "Where to find recommended tire pressure:\n",
    "\n",
    "You can find the recommended tire pressure specifications on the inflation label located on the driver's side B-pillar of your vehicle. Alternatively, you can refer to your vehicle's manual for this information. The recommended tire pressure may vary depending on the speed and the number of occupants or maximum load in the vehicle.\n",
    "\n",
    "Reinflating the tires:\n",
    "\n",
    "When checking tire pressure, it is important to do so when the tires are cold. This means allowing the vehicle to sit for at least three hours to ensure the tires are at the same temperature as the ambient temperature.\n",
    "\n",
    "To reinflate the tires:\n",
    "\n",
    "    Check the recommended tire pressure for your vehicle.\n",
    "    Follow the instructions provided on the air pump and inflate the tire(s) to the correct pressure.\n",
    "    In the center display of your vehicle, open the \"Car status\" app.\n",
    "    Navigate to the \"Tire pressure\" tab.\n",
    "    Press the \"Calibrate pressure\" option and confirm the action.\n",
    "    Drive the car for a few minutes at a speed above 30 km/h to calibrate the tire pressure.\n",
    "\n",
    "Note: In some cases, it may be necessary to drive for more than 15 minutes to clear any warning symbols or messages related to tire pressure. If the warnings persist, allow the tires to cool down and repeat the above steps.\n",
    "\n",
    "Flat Tire:\n",
    "\n",
    "If you encounter a flat tire while driving, you can temporarily seal the puncture and reinflate the tire using a tire mobility kit. This kit is typically stored under the lining of the luggage area in your vehicle.\n",
    "\n",
    "Instructions for using the tire mobility kit:\n",
    "\n",
    "    Open the tailgate or trunk of your vehicle.\n",
    "    Lift up the lining of the luggage area to access the tire mobility kit.\n",
    "    Follow the instructions provided with the tire mobility kit to seal the puncture in the tire.\n",
    "    After using the kit, make sure to securely put it back in its original location.\n",
    "    Contact Audi or an appropriate service for assistance with disposing of and replacing the used sealant bottle.\n",
    "\n",
    "Please note that the tire mobility kit is a temporary solution and is designed to allow you to drive for a maximum of 10 minutes or 8 km (whichever comes first) at a maximum speed of 80 km/h. It is advisable to replace the punctured tire or have it repaired by a professional as soon as possible.\"\"\"\n",
    "question = \"How can I fix a flat tire on my Audi A8?\"\n",
    "prompt_data = f\"\"\"Answer the question based only on the information provided between ## and give step by step guide.\n",
    "Only answer the question if the for the exact made and model of the car, otherwise, answer \"I don't know\".\n",
    "#\n",
    "{context}\n",
    "#\n",
    "\n",
    "Question: {question}\n",
    "Answer:\"\"\"\n",
    "\n",
    "resp = client.invoke_model(\n",
    "    body=json.dumps({\n",
    "        \"inputText\": prompt_data,\n",
    "        \"textGenerationConfig\": params,\n",
    "    }), \n",
    "    modelId=\"amazon.titan-tg1-large\", \n",
    "    accept='application/json', \n",
    "    contentType='application/json'\n",
    ")\n",
    "body = json.loads(resp.get('body').read())\n",
    "print(body.get('results')[0].get('outputText'))"
   ]
  },
  {
   "cell_type": "code",
   "execution_count": 13,
   "id": "2b320855-0ae7-48d9-ad11-bcb5825a30fc",
   "metadata": {},
   "outputs": [
    {
     "data": {
      "text/markdown": [
       " To fix a flat tire on your Audi A8, you can use a tire mobility kit. This kit is typically stored under the lining of the luggage area in your vehicle. Follow the instructions provided with the tire mobility kit to seal the puncture in the tire. After using the kit, make sure to securely put it back in its original location. Contact Audi or an appropriate service for assistance with disposing of and replacing the used sealant bottle."
      ]
     },
     "metadata": {},
     "output_type": "display_data"
    }
   ],
   "source": [
    "from IPython.display import display_markdown,Markdown,clear_output\n",
    "\n",
    "resp = client.invoke_model_with_response_stream(\n",
    "    body=json.dumps({\n",
    "        \"inputText\": prompt_data,\n",
    "        \"textGenerationConfig\": params,\n",
    "    }), \n",
    "    modelId=\"amazon.titan-tg1-large\", \n",
    "    accept='application/json', \n",
    "    contentType='application/json'\n",
    ")\n",
    "stream = resp.get('body')\n",
    "output = []\n",
    "i = 1\n",
    "if stream:\n",
    "    for event in stream:\n",
    "        chunk = event.get('chunk')\n",
    "        if chunk:\n",
    "            chunk_obj = json.loads(chunk.get('bytes').decode())\n",
    "            text = chunk_obj['outputText']\n",
    "            clear_output(wait=True)\n",
    "            output.append(text)\n",
    "            display_markdown(Markdown(''.join(output)))\n",
    "            i+=1\n"
   ]
  },
  {
   "cell_type": "code",
   "execution_count": null,
   "id": "3ec7f867-6015-4e44-9592-41f6d60e8817",
   "metadata": {},
   "outputs": [],
   "source": []
  }
 ],
 "metadata": {
  "kernelspec": {
   "display_name": "Python 3 (ipykernel)",
   "language": "python",
   "name": "python3"
  },
  "language_info": {
   "codemirror_mode": {
    "name": "ipython",
    "version": 3
   },
   "file_extension": ".py",
   "mimetype": "text/x-python",
   "name": "python",
   "nbconvert_exporter": "python",
   "pygments_lexer": "ipython3",
   "version": "3.11.9"
  }
 },
 "nbformat": 4,
 "nbformat_minor": 5
}
